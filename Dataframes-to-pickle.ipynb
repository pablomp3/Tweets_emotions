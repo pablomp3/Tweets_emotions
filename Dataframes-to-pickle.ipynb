{
 "cells": [
  {
   "cell_type": "code",
   "execution_count": 1,
   "metadata": {},
   "outputs": [],
   "source": [
    "import pandas as pd"
   ]
  },
  {
   "cell_type": "code",
   "execution_count": 3,
   "metadata": {},
   "outputs": [
    {
     "name": "stdout",
     "output_type": "stream",
     "text": [
      "   tweet_id       emotion\n",
      "0  0x28b412  anticipation\n",
      "1  0x2de201  anticipation\n",
      "2  0x218443       disgust\n",
      "3  0x2939d5           joy\n",
      "4  0x26289a         trust\n",
      "5  0x31c6e0       disgust\n",
      "6  0x32edee           joy\n",
      "7  0x3714ee           joy\n",
      "8  0x235628           joy\n",
      "9  0x283024           joy\n"
     ]
    },
    {
     "data": {
      "text/plain": [
       "(411972, 2)"
      ]
     },
     "execution_count": 3,
     "metadata": {},
     "output_type": "execute_result"
    }
   ],
   "source": [
    "### training data - transform into dataframe\n",
    "\n",
    "# Read emotion.csv\n",
    "final = pd.read_csv(\"final_prediction.csv\")\n",
    "print(emotion[0:10])\n",
    "final.shape"
   ]
  },
  {
   "cell_type": "code",
   "execution_count": 5,
   "metadata": {},
   "outputs": [],
   "source": [
    "from pandas import DataFrame\n",
    "#df = pd.DataFrame({'$a':[1,2], '$b': [10,20]})\n",
    "final.columns = ['id', 'emotion']\n",
    "final[0:10]\n",
    "final.to_csv('./final_prediccion.csv', index=False)"
   ]
  },
  {
   "cell_type": "code",
   "execution_count": 7,
   "metadata": {},
   "outputs": [
    {
     "data": {
      "text/plain": [
       "(411972, 2)"
      ]
     },
     "execution_count": 7,
     "metadata": {},
     "output_type": "execute_result"
    }
   ],
   "source": [
    "final.shape"
   ]
  },
  {
   "cell_type": "code",
   "execution_count": 8,
   "metadata": {},
   "outputs": [
    {
     "data": {
      "text/html": [
       "<div>\n",
       "<style scoped>\n",
       "    .dataframe tbody tr th:only-of-type {\n",
       "        vertical-align: middle;\n",
       "    }\n",
       "\n",
       "    .dataframe tbody tr th {\n",
       "        vertical-align: top;\n",
       "    }\n",
       "\n",
       "    .dataframe thead th {\n",
       "        text-align: right;\n",
       "    }\n",
       "</style>\n",
       "<table border=\"1\" class=\"dataframe\">\n",
       "  <thead>\n",
       "    <tr style=\"text-align: right;\">\n",
       "      <th></th>\n",
       "      <th>tweet_id</th>\n",
       "      <th>identification</th>\n",
       "    </tr>\n",
       "  </thead>\n",
       "  <tbody>\n",
       "    <tr>\n",
       "      <th>0</th>\n",
       "      <td>0x28cc61</td>\n",
       "      <td>test</td>\n",
       "    </tr>\n",
       "    <tr>\n",
       "      <th>1</th>\n",
       "      <td>0x29e452</td>\n",
       "      <td>train</td>\n",
       "    </tr>\n",
       "    <tr>\n",
       "      <th>2</th>\n",
       "      <td>0x2b3819</td>\n",
       "      <td>train</td>\n",
       "    </tr>\n",
       "    <tr>\n",
       "      <th>3</th>\n",
       "      <td>0x2db41f</td>\n",
       "      <td>test</td>\n",
       "    </tr>\n",
       "    <tr>\n",
       "      <th>4</th>\n",
       "      <td>0x2a2acc</td>\n",
       "      <td>train</td>\n",
       "    </tr>\n",
       "    <tr>\n",
       "      <th>5</th>\n",
       "      <td>0x2a8830</td>\n",
       "      <td>train</td>\n",
       "    </tr>\n",
       "    <tr>\n",
       "      <th>6</th>\n",
       "      <td>0x20b21d</td>\n",
       "      <td>train</td>\n",
       "    </tr>\n",
       "    <tr>\n",
       "      <th>7</th>\n",
       "      <td>0x2452cf</td>\n",
       "      <td>train</td>\n",
       "    </tr>\n",
       "    <tr>\n",
       "      <th>8</th>\n",
       "      <td>0x2d729d</td>\n",
       "      <td>train</td>\n",
       "    </tr>\n",
       "    <tr>\n",
       "      <th>9</th>\n",
       "      <td>0x2ab56d</td>\n",
       "      <td>train</td>\n",
       "    </tr>\n",
       "  </tbody>\n",
       "</table>\n",
       "</div>"
      ],
      "text/plain": [
       "   tweet_id identification\n",
       "0  0x28cc61           test\n",
       "1  0x29e452          train\n",
       "2  0x2b3819          train\n",
       "3  0x2db41f           test\n",
       "4  0x2a2acc          train\n",
       "5  0x2a8830          train\n",
       "6  0x20b21d          train\n",
       "7  0x2452cf          train\n",
       "8  0x2d729d          train\n",
       "9  0x2ab56d          train"
      ]
     },
     "execution_count": 8,
     "metadata": {},
     "output_type": "execute_result"
    }
   ],
   "source": [
    "import numpy as np # linear algebra\n",
    "import pandas as pd # data processing, CSV file I/O (e.g. pd.read_csv)\n",
    "# Read and import emotion.csv\n",
    "emotion = pd.read_csv('emotion.csv')\n",
    "#print(emotion[0:10])\n",
    "# Read and import data_id.csv\n",
    "data_id = pd.read_csv('data_identification.csv')\n",
    "#data_id.shape\n",
    "data_id[0:10]"
   ]
  },
  {
   "cell_type": "code",
   "execution_count": 10,
   "metadata": {},
   "outputs": [],
   "source": [
    "# Read and import the actual file with info\n",
    "dm = pd.read_json('tweets_DM.json', lines=True)"
   ]
  },
  {
   "cell_type": "code",
   "execution_count": 11,
   "metadata": {},
   "outputs": [
    {
     "data": {
      "text/html": [
       "<div>\n",
       "<style scoped>\n",
       "    .dataframe tbody tr th:only-of-type {\n",
       "        vertical-align: middle;\n",
       "    }\n",
       "\n",
       "    .dataframe tbody tr th {\n",
       "        vertical-align: top;\n",
       "    }\n",
       "\n",
       "    .dataframe thead th {\n",
       "        text-align: right;\n",
       "    }\n",
       "</style>\n",
       "<table border=\"1\" class=\"dataframe\">\n",
       "  <thead>\n",
       "    <tr style=\"text-align: right;\">\n",
       "      <th></th>\n",
       "      <th>hashtags</th>\n",
       "      <th>texts</th>\n",
       "      <th>tweet_id</th>\n",
       "      <th>identification</th>\n",
       "    </tr>\n",
       "  </thead>\n",
       "  <tbody>\n",
       "    <tr>\n",
       "      <th>2</th>\n",
       "      <td>[bibleverse]</td>\n",
       "      <td>Confident of your obedience, I write to you, k...</td>\n",
       "      <td>0x28b412</td>\n",
       "      <td>test</td>\n",
       "    </tr>\n",
       "    <tr>\n",
       "      <th>4</th>\n",
       "      <td>[]</td>\n",
       "      <td>\"Trust is not the same as faith. A friend is s...</td>\n",
       "      <td>0x2de201</td>\n",
       "      <td>test</td>\n",
       "    </tr>\n",
       "    <tr>\n",
       "      <th>9</th>\n",
       "      <td>[materialism, money, possessions]</td>\n",
       "      <td>When do you have enough ? When are you satisfi...</td>\n",
       "      <td>0x218443</td>\n",
       "      <td>test</td>\n",
       "    </tr>\n",
       "    <tr>\n",
       "      <th>30</th>\n",
       "      <td>[GodsPlan, GodsWork]</td>\n",
       "      <td>God woke you up, now chase the day #GodsPlan #...</td>\n",
       "      <td>0x2939d5</td>\n",
       "      <td>test</td>\n",
       "    </tr>\n",
       "    <tr>\n",
       "      <th>33</th>\n",
       "      <td>[]</td>\n",
       "      <td>In these tough times, who do YOU turn to as yo...</td>\n",
       "      <td>0x26289a</td>\n",
       "      <td>test</td>\n",
       "    </tr>\n",
       "    <tr>\n",
       "      <th>35</th>\n",
       "      <td>[]</td>\n",
       "      <td>Turns out you can recognise people by their un...</td>\n",
       "      <td>0x31c6e0</td>\n",
       "      <td>test</td>\n",
       "    </tr>\n",
       "    <tr>\n",
       "      <th>37</th>\n",
       "      <td>[sheltered]</td>\n",
       "      <td>I like how Hayvens mommy, daddy, and the keybo...</td>\n",
       "      <td>0x32edee</td>\n",
       "      <td>test</td>\n",
       "    </tr>\n",
       "    <tr>\n",
       "      <th>46</th>\n",
       "      <td>[notamused]</td>\n",
       "      <td>I just love it when every single one of my son...</td>\n",
       "      <td>0x3714ee</td>\n",
       "      <td>test</td>\n",
       "    </tr>\n",
       "    <tr>\n",
       "      <th>49</th>\n",
       "      <td>[CelebrityBigBrother]</td>\n",
       "      <td>@JulieChen when can we expect a season of #Cel...</td>\n",
       "      <td>0x235628</td>\n",
       "      <td>test</td>\n",
       "    </tr>\n",
       "    <tr>\n",
       "      <th>56</th>\n",
       "      <td>[]</td>\n",
       "      <td>Tbh. Regret hurts more than stepping on a LEGO...</td>\n",
       "      <td>0x283024</td>\n",
       "      <td>test</td>\n",
       "    </tr>\n",
       "  </tbody>\n",
       "</table>\n",
       "</div>"
      ],
      "text/plain": [
       "                             hashtags  \\\n",
       "2                        [bibleverse]   \n",
       "4                                  []   \n",
       "9   [materialism, money, possessions]   \n",
       "30               [GodsPlan, GodsWork]   \n",
       "33                                 []   \n",
       "35                                 []   \n",
       "37                        [sheltered]   \n",
       "46                        [notamused]   \n",
       "49              [CelebrityBigBrother]   \n",
       "56                                 []   \n",
       "\n",
       "                                                texts  tweet_id identification  \n",
       "2   Confident of your obedience, I write to you, k...  0x28b412           test  \n",
       "4   \"Trust is not the same as faith. A friend is s...  0x2de201           test  \n",
       "9   When do you have enough ? When are you satisfi...  0x218443           test  \n",
       "30  God woke you up, now chase the day #GodsPlan #...  0x2939d5           test  \n",
       "33  In these tough times, who do YOU turn to as yo...  0x26289a           test  \n",
       "35  Turns out you can recognise people by their un...  0x31c6e0           test  \n",
       "37  I like how Hayvens mommy, daddy, and the keybo...  0x32edee           test  \n",
       "46  I just love it when every single one of my son...  0x3714ee           test  \n",
       "49  @JulieChen when can we expect a season of #Cel...  0x235628           test  \n",
       "56  Tbh. Regret hurts more than stepping on a LEGO...  0x283024           test  "
      ]
     },
     "execution_count": 11,
     "metadata": {},
     "output_type": "execute_result"
    }
   ],
   "source": [
    "# We want to isolate the column _source of dm file, since the other columns are not interesting\n",
    "# tweet_source is a dictionary that we want to transform later into a dataframe\n",
    "tweet_source = dm['_source']\n",
    "tweet_source[0:10]\n",
    "#type(tweet_source)\n",
    "#tweet_source.to_frame()\n",
    "\n",
    "\n",
    "# create three arrays --> columns in new dataframe\n",
    "hashtags = []\n",
    "texts = []\n",
    "tweet_id = []\n",
    "\n",
    "# store info of the dictionary into a new dataframe\n",
    "for row in tweet_source:\n",
    "   hashtags += [row['tweet'][ 'hashtags']]\n",
    "   texts += [row['tweet']['text']]\n",
    "   tweet_id += [row['tweet']['tweet_id']]\n",
    "\n",
    "# create the new dataframe with 3 columns\n",
    "htt = {'hashtags': hashtags, 'texts': texts, 'tweet_id': tweet_id}\n",
    "df = pd.DataFrame(data=htt)\n",
    "df[0:10]\n",
    "#df.shape\n",
    "\n",
    "# Merge the new dataframe and the identification dataset, based on tweets with the same id\n",
    "bigdf = pd.merge(df, data_id, on=\"tweet_id\")\n",
    "bigdf[0:50]\n",
    "#bigdf.shape\n",
    "\n",
    "data_id_train_without_emotion = bigdf[bigdf['identification'] == 'train']\n",
    "data_id_train_without_emotion[0:10]\n",
    "#data_id_train.shape\n",
    "\n",
    "# Length for emotion dataframe is the same as the length for training dataframe, so we can\n",
    "# divide the complete dataframe (bigdf) in both train and test, and then merge the trainning \n",
    "# dataframe with the emotions\n",
    "\n",
    "# Add emotion info to the train dataframe based on tweet id\n",
    "df_train = pd.merge(data_id_train_without_emotion, emotion, on=\"tweet_id\")\n",
    "df_train[0:10]\n",
    "# shape is lower than before\n",
    "#df_train.shape\n",
    "\n",
    "df_test = bigdf[bigdf['identification'] == 'test']\n",
    "df_test[0:10]\n",
    "#df_test.shape"
   ]
  },
  {
   "cell_type": "code",
   "execution_count": 12,
   "metadata": {},
   "outputs": [],
   "source": [
    "# Save the train and test dataframes into pickle format\n",
    "df_train.to_pickle(\"train_df.pkl\")\n",
    "df_test.to_pickle(\"test_df.pkl\")\n",
    "\n",
    "## load a pickle file\n",
    "train_df = pd.read_pickle(\"train_df.pkl\")\n",
    "test_df = pd.read_pickle(\"test_df.pkl\")"
   ]
  },
  {
   "cell_type": "markdown",
   "metadata": {},
   "source": [
    "# ffdfdddf"
   ]
  },
  {
   "cell_type": "code",
   "execution_count": null,
   "metadata": {},
   "outputs": [],
   "source": []
  }
 ],
 "metadata": {
  "kernelspec": {
   "display_name": "Python 3",
   "language": "python",
   "name": "python3"
  },
  "language_info": {
   "codemirror_mode": {
    "name": "ipython",
    "version": 3
   },
   "file_extension": ".py",
   "mimetype": "text/x-python",
   "name": "python",
   "nbconvert_exporter": "python",
   "pygments_lexer": "ipython3",
   "version": "3.7.0"
  }
 },
 "nbformat": 4,
 "nbformat_minor": 2
}
